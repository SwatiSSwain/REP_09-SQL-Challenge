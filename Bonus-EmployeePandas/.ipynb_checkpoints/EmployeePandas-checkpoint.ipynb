{
 "cells": [
  {
   "cell_type": "markdown",
   "metadata": {},
   "source": [
    "Summary of Observations:\n",
    "1. Salary Range vs Frequency histogram: \n",
    "    \n",
    "    a. Most of the employees in the company fall into the lowest salary range, i.e. $ 40,000-50,000 annually.\n",
    "    \n",
    "    b. As the salary range increases, the number of employees per range decreases.\n",
    "\n",
    "\n",
    "2. Job Title vs Average Salary Bar graph:\n",
    "    \n",
    "    a. Senior Staff and Staff have the highest average salaries of around $ 58.5k.\n",
    "    \n",
    "    b. Manager comes in 3rd with an average salary of $ 51.5k.\n",
    "    \n",
    "    c. The average salary of the rest of the job titles are similar averaging around $ 48.5k.\n"
   ]
  },
  {
   "cell_type": "code",
   "execution_count": 1,
   "metadata": {},
   "outputs": [],
   "source": [
    "# Pandas\n",
    "import pandas as pd\n",
    "import matplotlib.pyplot as plt\n",
    "import numpy as np\n",
    "\n",
    "# SQL Alchemy\n",
    "from sqlalchemy import create_engine"
   ]
  },
  {
   "cell_type": "code",
   "execution_count": 2,
   "metadata": {},
   "outputs": [],
   "source": [
    "# Create Engine for employee db\n",
    "engine = create_engine('postgresql://localhost:5432/employee_db')\n",
    "connection = engine.connect()"
   ]
  },
  {
   "cell_type": "code",
   "execution_count": 3,
   "metadata": {},
   "outputs": [
    {
     "data": {
      "text/html": [
       "<div>\n",
       "<style scoped>\n",
       "    .dataframe tbody tr th:only-of-type {\n",
       "        vertical-align: middle;\n",
       "    }\n",
       "\n",
       "    .dataframe tbody tr th {\n",
       "        vertical-align: top;\n",
       "    }\n",
       "\n",
       "    .dataframe thead th {\n",
       "        text-align: right;\n",
       "    }\n",
       "</style>\n",
       "<table border=\"1\" class=\"dataframe\">\n",
       "  <thead>\n",
       "    <tr style=\"text-align: right;\">\n",
       "      <th></th>\n",
       "      <th>emp_no</th>\n",
       "      <th>emp_title_id</th>\n",
       "      <th>salary</th>\n",
       "    </tr>\n",
       "  </thead>\n",
       "  <tbody>\n",
       "    <tr>\n",
       "      <th>0</th>\n",
       "      <td>57444</td>\n",
       "      <td>e0002</td>\n",
       "      <td>48973</td>\n",
       "    </tr>\n",
       "    <tr>\n",
       "      <th>1</th>\n",
       "      <td>13616</td>\n",
       "      <td>e0003</td>\n",
       "      <td>40000</td>\n",
       "    </tr>\n",
       "    <tr>\n",
       "      <th>2</th>\n",
       "      <td>240129</td>\n",
       "      <td>e0004</td>\n",
       "      <td>43548</td>\n",
       "    </tr>\n",
       "    <tr>\n",
       "      <th>3</th>\n",
       "      <td>427958</td>\n",
       "      <td>s0001</td>\n",
       "      <td>63377</td>\n",
       "    </tr>\n",
       "    <tr>\n",
       "      <th>4</th>\n",
       "      <td>35916</td>\n",
       "      <td>e0003</td>\n",
       "      <td>40000</td>\n",
       "    </tr>\n",
       "  </tbody>\n",
       "</table>\n",
       "</div>"
      ],
      "text/plain": [
       "   emp_no emp_title_id  salary\n",
       "0   57444        e0002   48973\n",
       "1   13616        e0003   40000\n",
       "2  240129        e0004   43548\n",
       "3  427958        s0001   63377\n",
       "4   35916        e0003   40000"
      ]
     },
     "execution_count": 3,
     "metadata": {},
     "output_type": "execute_result"
    }
   ],
   "source": [
    "#Fetch Employee & salary data by joining Employee and Salary tables\n",
    "emp_salary_data_df = pd.read_sql(\"SELECT e.emp_no, e.emp_title_id, s.salary FROM employee e JOIN salary s ON e.emp_no = s.emp_no\", connection)\n",
    "                              \n",
    "emp_salary_data_df.head()    "
   ]
  },
  {
   "cell_type": "code",
   "execution_count": 4,
   "metadata": {},
   "outputs": [
    {
     "data": {
      "text/html": [
       "<div>\n",
       "<style scoped>\n",
       "    .dataframe tbody tr th:only-of-type {\n",
       "        vertical-align: middle;\n",
       "    }\n",
       "\n",
       "    .dataframe tbody tr th {\n",
       "        vertical-align: top;\n",
       "    }\n",
       "\n",
       "    .dataframe thead th {\n",
       "        text-align: right;\n",
       "    }\n",
       "</style>\n",
       "<table border=\"1\" class=\"dataframe\">\n",
       "  <thead>\n",
       "    <tr style=\"text-align: right;\">\n",
       "      <th></th>\n",
       "      <th>title_id</th>\n",
       "      <th>title</th>\n",
       "    </tr>\n",
       "  </thead>\n",
       "  <tbody>\n",
       "    <tr>\n",
       "      <th>0</th>\n",
       "      <td>s0001</td>\n",
       "      <td>Staff</td>\n",
       "    </tr>\n",
       "    <tr>\n",
       "      <th>1</th>\n",
       "      <td>s0002</td>\n",
       "      <td>Senior Staff</td>\n",
       "    </tr>\n",
       "    <tr>\n",
       "      <th>2</th>\n",
       "      <td>e0001</td>\n",
       "      <td>Assistant Engineer</td>\n",
       "    </tr>\n",
       "    <tr>\n",
       "      <th>3</th>\n",
       "      <td>e0002</td>\n",
       "      <td>Engineer</td>\n",
       "    </tr>\n",
       "    <tr>\n",
       "      <th>4</th>\n",
       "      <td>e0003</td>\n",
       "      <td>Senior Engineer</td>\n",
       "    </tr>\n",
       "  </tbody>\n",
       "</table>\n",
       "</div>"
      ],
      "text/plain": [
       "  title_id               title\n",
       "0    s0001               Staff\n",
       "1    s0002        Senior Staff\n",
       "2    e0001  Assistant Engineer\n",
       "3    e0002            Engineer\n",
       "4    e0003     Senior Engineer"
      ]
     },
     "execution_count": 4,
     "metadata": {},
     "output_type": "execute_result"
    }
   ],
   "source": [
    "#Fetch Title data from Title table\n",
    "title_data_df = pd.read_sql(\"SELECT title_id, title FROM title\", connection)\n",
    "                              \n",
    "title_data_df.head()    "
   ]
  },
  {
   "cell_type": "code",
   "execution_count": 5,
   "metadata": {},
   "outputs": [
    {
     "data": {
      "text/html": [
       "<div>\n",
       "<style scoped>\n",
       "    .dataframe tbody tr th:only-of-type {\n",
       "        vertical-align: middle;\n",
       "    }\n",
       "\n",
       "    .dataframe tbody tr th {\n",
       "        vertical-align: top;\n",
       "    }\n",
       "\n",
       "    .dataframe thead th {\n",
       "        text-align: right;\n",
       "    }\n",
       "</style>\n",
       "<table border=\"1\" class=\"dataframe\">\n",
       "  <thead>\n",
       "    <tr style=\"text-align: right;\">\n",
       "      <th></th>\n",
       "      <th>emp_no</th>\n",
       "      <th>emp_title_id</th>\n",
       "      <th>salary</th>\n",
       "      <th>title_id</th>\n",
       "      <th>title</th>\n",
       "    </tr>\n",
       "  </thead>\n",
       "  <tbody>\n",
       "    <tr>\n",
       "      <th>0</th>\n",
       "      <td>57444</td>\n",
       "      <td>e0002</td>\n",
       "      <td>48973</td>\n",
       "      <td>e0002</td>\n",
       "      <td>Engineer</td>\n",
       "    </tr>\n",
       "    <tr>\n",
       "      <th>1</th>\n",
       "      <td>67799</td>\n",
       "      <td>e0002</td>\n",
       "      <td>48111</td>\n",
       "      <td>e0002</td>\n",
       "      <td>Engineer</td>\n",
       "    </tr>\n",
       "    <tr>\n",
       "      <th>2</th>\n",
       "      <td>215615</td>\n",
       "      <td>e0002</td>\n",
       "      <td>40000</td>\n",
       "      <td>e0002</td>\n",
       "      <td>Engineer</td>\n",
       "    </tr>\n",
       "    <tr>\n",
       "      <th>3</th>\n",
       "      <td>43471</td>\n",
       "      <td>e0002</td>\n",
       "      <td>40023</td>\n",
       "      <td>e0002</td>\n",
       "      <td>Engineer</td>\n",
       "    </tr>\n",
       "    <tr>\n",
       "      <th>4</th>\n",
       "      <td>225842</td>\n",
       "      <td>e0002</td>\n",
       "      <td>40000</td>\n",
       "      <td>e0002</td>\n",
       "      <td>Engineer</td>\n",
       "    </tr>\n",
       "  </tbody>\n",
       "</table>\n",
       "</div>"
      ],
      "text/plain": [
       "   emp_no emp_title_id  salary title_id     title\n",
       "0   57444        e0002   48973    e0002  Engineer\n",
       "1   67799        e0002   48111    e0002  Engineer\n",
       "2  215615        e0002   40000    e0002  Engineer\n",
       "3   43471        e0002   40023    e0002  Engineer\n",
       "4  225842        e0002   40000    e0002  Engineer"
      ]
     },
     "execution_count": 5,
     "metadata": {},
     "output_type": "execute_result"
    }
   ],
   "source": [
    "#Merge the emp/salary and Title df\n",
    "merged_df= pd.merge(emp_salary_data_df, title_data_df \n",
    "                   ,left_on=\"emp_title_id\"\n",
    "                   ,right_on = \"title_id\"\n",
    "                   ,how=\"inner\"\n",
    "                   ,suffixes=[\"_emp\",\"title\"])\n",
    "merged_df.head()"
   ]
  },
  {
   "cell_type": "code",
   "execution_count": 6,
   "metadata": {},
   "outputs": [
    {
     "data": {
      "text/plain": [
       "emp_no          300024\n",
       "emp_title_id    300024\n",
       "salary          300024\n",
       "title_id        300024\n",
       "title           300024\n",
       "dtype: int64"
      ]
     },
     "execution_count": 6,
     "metadata": {},
     "output_type": "execute_result"
    }
   ],
   "source": [
    "#clean the df of null values \n",
    "\n",
    "#Replace blanks with nan if present\n",
    "merged_df['salary'] = merged_df['salary'].replace('', np.nan)\n",
    "merged_df['title'] = merged_df['title'].replace('', np.nan)\n",
    "\n",
    "#drop nan\n",
    "clean_employee_df = merged_df.dropna()\n",
    "\n",
    "#Perform count of records in each column to verify they are equal\n",
    "clean_employee_df.count()"
   ]
  },
  {
   "cell_type": "code",
   "execution_count": 7,
   "metadata": {},
   "outputs": [
    {
     "data": {
      "image/png": "[encoded data removed]",
      "text/plain": [
       "<Figure size 432x288 with 1 Axes>"
      ]
     },
     "metadata": {
      "needs_background": "light"
     },
     "output_type": "display_data"
    }
   ],
   "source": [
    "#Create a histogram to visualize the most common salary ranges for employees.\n",
    "\n",
    "#Plot histogram\n",
    "clean_employee_df.hist(column='salary')\n",
    "\n",
    "#set labels\n",
    "plt.title(\"Salary Ranges for Employees\")\n",
    "plt.xlabel(\"Salary Range\")\n",
    "plt.ylabel(\"Frequency\")\n",
    "\n",
    "plt.show()"
   ]
  },
  {
   "cell_type": "markdown",
   "metadata": {},
   "source": [
    "Insights from the above graph:\n",
    "\n",
    "a. Most of the employees in the company fall into the lowest salary range, i.e $40,000-50,000 annually. \n",
    "\n",
    "b. As the salary range increases, the number of employees per range decreases."
   ]
  },
  {
   "cell_type": "code",
   "execution_count": 8,
   "metadata": {},
   "outputs": [
    {
     "data": {
      "text/html": [
       "<style  type=\"text/css\" >\n",
       "</style><table id=\"T_86ce770a_926d_11ea_8278_7cb27dd0d832\" ><thead>    <tr>        <th class=\"blank level0\" ></th>        <th class=\"col_heading level0 col0\" >Mean Salary</th>    </tr>    <tr>        <th class=\"index_name level0\" >title</th>        <th class=\"blank\" ></th>    </tr></thead><tbody>\n",
       "                <tr>\n",
       "                        <th id=\"T_86ce770a_926d_11ea_8278_7cb27dd0d832level0_row0\" class=\"row_heading level0 row0\" >Assistant Engineer</th>\n",
       "                        <td id=\"T_86ce770a_926d_11ea_8278_7cb27dd0d832row0_col0\" class=\"data row0 col0\" >48,564.43</td>\n",
       "            </tr>\n",
       "            <tr>\n",
       "                        <th id=\"T_86ce770a_926d_11ea_8278_7cb27dd0d832level0_row1\" class=\"row_heading level0 row1\" >Engineer</th>\n",
       "                        <td id=\"T_86ce770a_926d_11ea_8278_7cb27dd0d832row1_col0\" class=\"data row1 col0\" >48,535.34</td>\n",
       "            </tr>\n",
       "            <tr>\n",
       "                        <th id=\"T_86ce770a_926d_11ea_8278_7cb27dd0d832level0_row2\" class=\"row_heading level0 row2\" >Manager</th>\n",
       "                        <td id=\"T_86ce770a_926d_11ea_8278_7cb27dd0d832row2_col0\" class=\"data row2 col0\" >51,531.04</td>\n",
       "            </tr>\n",
       "            <tr>\n",
       "                        <th id=\"T_86ce770a_926d_11ea_8278_7cb27dd0d832level0_row3\" class=\"row_heading level0 row3\" >Senior Engineer</th>\n",
       "                        <td id=\"T_86ce770a_926d_11ea_8278_7cb27dd0d832row3_col0\" class=\"data row3 col0\" >48,506.80</td>\n",
       "            </tr>\n",
       "            <tr>\n",
       "                        <th id=\"T_86ce770a_926d_11ea_8278_7cb27dd0d832level0_row4\" class=\"row_heading level0 row4\" >Senior Staff</th>\n",
       "                        <td id=\"T_86ce770a_926d_11ea_8278_7cb27dd0d832row4_col0\" class=\"data row4 col0\" >58,550.17</td>\n",
       "            </tr>\n",
       "            <tr>\n",
       "                        <th id=\"T_86ce770a_926d_11ea_8278_7cb27dd0d832level0_row5\" class=\"row_heading level0 row5\" >Staff</th>\n",
       "                        <td id=\"T_86ce770a_926d_11ea_8278_7cb27dd0d832row5_col0\" class=\"data row5 col0\" >58,465.38</td>\n",
       "            </tr>\n",
       "            <tr>\n",
       "                        <th id=\"T_86ce770a_926d_11ea_8278_7cb27dd0d832level0_row6\" class=\"row_heading level0 row6\" >Technique Leader</th>\n",
       "                        <td id=\"T_86ce770a_926d_11ea_8278_7cb27dd0d832row6_col0\" class=\"data row6 col0\" >48,582.90</td>\n",
       "            </tr>\n",
       "    </tbody></table>"
      ],
      "text/plain": [
       "<pandas.io.formats.style.Styler at 0x2698983bcf8>"
      ]
     },
     "execution_count": 8,
     "metadata": {},
     "output_type": "execute_result"
    }
   ],
   "source": [
    "#Group by Title and find avg salary for each group\n",
    "\n",
    "#group by title\n",
    "title_group=clean_employee_df.groupby('title')\n",
    "\n",
    "#mean of salary for each group\n",
    "salary_mean=round(title_group['salary'].mean(),2)\n",
    "\n",
    "#create dataframe with stats\n",
    "Title_Summary_df=pd.DataFrame({\"Mean Salary\":salary_mean})\n",
    "\n",
    "#formatting\n",
    "Title_Summary_df.style.format(\"{:,.2f}\")"
   ]
  },
  {
   "cell_type": "code",
   "execution_count": 9,
   "metadata": {},
   "outputs": [
    {
     "data": {
      "image/png": "[encoded data removed]",
      "text/plain": [
       "<Figure size 720x432 with 1 Axes>"
      ]
     },
     "metadata": {
      "needs_background": "light"
     },
     "output_type": "display_data"
    }
   ],
   "source": [
    "# Generate a bar plot showing the title vs average salary using pyplot.\n",
    "\n",
    "#reset index\n",
    "Title_graph_df=Title_Summary_df.reset_index()\n",
    "\n",
    "#length of count of title\n",
    "x_axis = np.arange(len(Title_graph_df['title']))\n",
    "\n",
    "#Set y axis values\n",
    "y_axis=Title_graph_df['Mean Salary']\n",
    "\n",
    "#List of titles for x axis tick locations\n",
    "title_list= Title_graph_df['title'].to_list() \n",
    "\n",
    "#plot bar graph using pyplot\n",
    "f, ax = plt.subplots(figsize=(10,6))\n",
    "plt.bar(x_axis, y_axis,  align=\"center\" )\n",
    "\n",
    "# Tell matplotlib where we would like to place each of our x axis headers\n",
    "tick_locations = [value for value in x_axis]\n",
    "plt.xticks(tick_locations, [title for title in title_list],  rotation='vertical')\n",
    "\n",
    "#set labels\n",
    "plt.title(\"Job Titles vs Average Salary\")\n",
    "plt.xlabel(\"Job Titles\")\n",
    "plt.ylabel(\"Average Salary\")\n",
    "\n",
    "# Sets the x limits of the current chart\n",
    "plt.xlim(-0.75, len(x_axis)-0.25)\n",
    "\n",
    "# Sets the y limits of the current chart\n",
    "plt.ylim(0, max(y_axis)+10000)\n",
    "\n",
    "\n",
    "plt.show()"
   ]
  },
  {
   "cell_type": "markdown",
   "metadata": {},
   "source": [
    "Insights from the above graph:\n",
    "\n",
    "a. Senior Staff and Staff have the highest average salaries of around $ 58.5k.\n",
    "\n",
    "b. Manager comes in 3rd with an average salary of $ 51.5k.\n",
    "\n",
    "c. The average salary of the rest of the job titles are similar averaging around $ 48.5k."
   ]
  },
  {
   "cell_type": "code",
   "execution_count": 10,
   "metadata": {},
   "outputs": [],
   "source": [
    "#close db connection\n",
    "connection.close()"
   ]
  }
 ],
 "metadata": {
  "kernelspec": {
   "display_name": "Python 3",
   "language": "python",
   "name": "python3"
  },
  "language_info": {
   "codemirror_mode": {
    "name": "ipython",
    "version": 3
   },
   "file_extension": ".py",
   "mimetype": "text/x-python",
   "name": "python",
   "nbconvert_exporter": "python",
   "pygments_lexer": "ipython3",
   "version": "3.6.10"
  }
 },
 "nbformat": 4,
 "nbformat_minor": 4
}
